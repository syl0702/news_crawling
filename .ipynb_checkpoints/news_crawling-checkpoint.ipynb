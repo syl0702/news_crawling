{
 "cells": [
  {
   "cell_type": "markdown",
   "id": "7ef29ff3-d9a9-491e-99f7-b47796addf87",
   "metadata": {},
   "source": [
    "# 신문기사 크롤링"
   ]
  },
  {
   "cell_type": "code",
   "execution_count": 1,
   "id": "5f248a11-09ab-4800-934c-973429c49d0a",
   "metadata": {},
   "outputs": [
    {
     "data": {
      "text/plain": [
       "['https://it.chosun.com/news/articleView.html?idxno=2023092100442',\n",
       " 'https://it.chosun.com/news/articleView.html?idxno=2023092101155',\n",
       " 'https://it.chosun.com/news/articleView.html?idxno=2023092101463']"
      ]
     },
     "execution_count": 1,
     "metadata": {},
     "output_type": "execute_result"
    }
   ],
   "source": [
    "url_list=list()\n",
    "url_list.insert(0,'https://it.chosun.com/news/articleView.html?idxno=2023092100442')\n",
    "url_list.insert(1,'https://it.chosun.com/news/articleView.html?idxno=2023092101155')\n",
    "url_list.insert(2,'https://it.chosun.com/news/articleView.html?idxno=2023092101463')\n",
    "url_list"
   ]
  },
  {
   "cell_type": "code",
   "execution_count": 8,
   "id": "43ef2e92-4e8e-4a9c-981c-1a188eb311cd",
   "metadata": {},
   "outputs": [
    {
     "data": {
      "text/html": [
       "<div>\n",
       "<style scoped>\n",
       "    .dataframe tbody tr th:only-of-type {\n",
       "        vertical-align: middle;\n",
       "    }\n",
       "\n",
       "    .dataframe tbody tr th {\n",
       "        vertical-align: top;\n",
       "    }\n",
       "\n",
       "    .dataframe thead th {\n",
       "        text-align: right;\n",
       "    }\n",
       "</style>\n",
       "<table border=\"1\" class=\"dataframe\">\n",
       "  <thead>\n",
       "    <tr style=\"text-align: right;\">\n",
       "      <th></th>\n",
       "      <th>기사 제목</th>\n",
       "      <th>기사 내용</th>\n",
       "    </tr>\n",
       "  </thead>\n",
       "  <tbody>\n",
       "    <tr>\n",
       "      <th>0</th>\n",
       "      <td>[인텔 이노베이션 2023] '어디서나 AI' 실리코노미 시대 기술 대거 공개</td>\n",
       "      <td></td>\n",
       "    </tr>\n",
       "    <tr>\n",
       "      <th>1</th>\n",
       "      <td>LCD 이어 안방 TV도 뺏기나…中 저가 공습에 韓 비상등</td>\n",
       "      <td></td>\n",
       "    </tr>\n",
       "    <tr>\n",
       "      <th>2</th>\n",
       "      <td>법무부, 로톡 이용 변호사 변협 징계 취소…업계 '환영'</td>\n",
       "      <td></td>\n",
       "    </tr>\n",
       "  </tbody>\n",
       "</table>\n",
       "</div>"
      ],
      "text/plain": [
       "                                         기사 제목 기사 내용\n",
       "0  [인텔 이노베이션 2023] '어디서나 AI' 실리코노미 시대 기술 대거 공개      \n",
       "1             LCD 이어 안방 TV도 뺏기나…中 저가 공습에 韓 비상등      \n",
       "2              법무부, 로톡 이용 변호사 변협 징계 취소…업계 '환영'      "
      ]
     },
     "execution_count": 8,
     "metadata": {},
     "output_type": "execute_result"
    }
   ],
   "source": [
    "# 웹 크롤링 결과 데이터프레임 정리 : 기사제목 추출하는 것처럼 select문과 find문 결합해서 사용하면 유용\n",
    "from urllib.request import urlopen\n",
    "from bs4 import BeautifulSoup as bs\n",
    "import pandas as pd\n",
    "\n",
    "titles, contents = [], []\n",
    "for i in range(len(url_list)):\n",
    "    url=url_list[i]\n",
    "    html = urlopen(url)\n",
    "    soup = bs(html, \"html.parser\")\n",
    "    text = ''\n",
    "    for para in soup.select('div.news_cnt_detail_wrap'):\n",
    "        text += para.text.strip()\n",
    "    contents.append(text)\n",
    "\n",
    "    # title = soup.select_one('article-view-header').find('h1').text.strip()\n",
    "    title = soup.select_one('h1.heading').text.strip()\n",
    "    titles.append(title)\n",
    "\n",
    "data = {'기사 제목' : titles, '기사 내용' : contents}\n",
    "df = pd.DataFrame(data)\n",
    "df"
   ]
  },
  {
   "cell_type": "code",
   "execution_count": null,
   "id": "499a46c3-4538-4aa8-b3e7-b09194e463d0",
   "metadata": {},
   "outputs": [],
   "source": []
  }
 ],
 "metadata": {
  "kernelspec": {
   "display_name": "Python 3 (ipykernel)",
   "language": "python",
   "name": "python3"
  },
  "language_info": {
   "codemirror_mode": {
    "name": "ipython",
    "version": 3
   },
   "file_extension": ".py",
   "mimetype": "text/x-python",
   "name": "python",
   "nbconvert_exporter": "python",
   "pygments_lexer": "ipython3",
   "version": "3.11.4"
  }
 },
 "nbformat": 4,
 "nbformat_minor": 5
}
