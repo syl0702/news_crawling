{
 "cells": [
  {
   "cell_type": "code",
   "execution_count": 1,
   "id": "c1e09a66-2fae-4010-9c8e-9430bcda9240",
   "metadata": {},
   "outputs": [
    {
     "name": "stdout",
     "output_type": "stream",
     "text": [
      "Collecting selenium\n",
      "  Downloading selenium-4.14.0-py3-none-any.whl (9.9 MB)\n",
      "     ---------------------------------------- 0.0/9.9 MB ? eta -:--:--\n",
      "     -- ------------------------------------- 0.6/9.9 MB 13.4 MB/s eta 0:00:01\n",
      "     ------ --------------------------------- 1.6/9.9 MB 20.1 MB/s eta 0:00:01\n",
      "     ----------- ---------------------------- 2.8/9.9 MB 22.4 MB/s eta 0:00:01\n",
      "     ---------------- ----------------------- 4.1/9.9 MB 24.1 MB/s eta 0:00:01\n",
      "     --------------------- ------------------ 5.4/9.9 MB 24.8 MB/s eta 0:00:01\n",
      "     --------------------------- ------------ 6.7/9.9 MB 25.3 MB/s eta 0:00:01\n",
      "     --------------------------------- ------ 8.2/9.9 MB 26.4 MB/s eta 0:00:01\n",
      "     -------------------------------------- - 9.7/9.9 MB 26.9 MB/s eta 0:00:01\n",
      "     ---------------------------------------- 9.9/9.9 MB 26.4 MB/s eta 0:00:00\n",
      "Collecting trio~=0.17\n",
      "  Using cached trio-0.22.2-py3-none-any.whl (400 kB)\n",
      "Collecting certifi>=2021.10.8\n",
      "  Using cached certifi-2023.7.22-py3-none-any.whl (158 kB)\n",
      "Collecting trio-websocket~=0.9\n",
      "  Downloading trio_websocket-0.11.1-py3-none-any.whl (17 kB)\n",
      "Collecting urllib3[socks]<3,>=1.26\n",
      "  Downloading urllib3-2.0.7-py3-none-any.whl (124 kB)\n",
      "     ---------------------------------------- 0.0/124.2 kB ? eta -:--:--\n",
      "     -------------------------------------- 124.2/124.2 kB 7.1 MB/s eta 0:00:00\n",
      "Requirement already satisfied: exceptiongroup>=1.0.0rc9 in c:\\users\\navyb\\appdata\\roaming\\python\\python310\\site-packages (from trio~=0.17->selenium) (1.1.3)\n",
      "Collecting attrs>=20.1.0\n",
      "  Using cached attrs-23.1.0-py3-none-any.whl (61 kB)\n",
      "Collecting outcome\n",
      "  Downloading outcome-1.3.0-py2.py3-none-any.whl (10 kB)\n",
      "Collecting cffi>=1.14\n",
      "  Downloading cffi-1.16.0-cp310-cp310-win_amd64.whl (181 kB)\n",
      "     ---------------------------------------- 0.0/181.6 kB ? eta -:--:--\n",
      "     ---------------------------------------- 181.6/181.6 kB ? eta 0:00:00\n",
      "Collecting sniffio\n",
      "  Using cached sniffio-1.3.0-py3-none-any.whl (10 kB)\n",
      "Collecting idna\n",
      "  Using cached idna-3.4-py3-none-any.whl (61 kB)\n",
      "Collecting sortedcontainers\n",
      "  Using cached sortedcontainers-2.4.0-py2.py3-none-any.whl (29 kB)\n",
      "Collecting wsproto>=0.14\n",
      "  Using cached wsproto-1.2.0-py3-none-any.whl (24 kB)\n",
      "Collecting pysocks!=1.5.7,<2.0,>=1.5.6\n",
      "  Using cached PySocks-1.7.1-py3-none-any.whl (16 kB)\n",
      "Collecting pycparser\n",
      "  Using cached pycparser-2.21-py2.py3-none-any.whl (118 kB)\n",
      "Collecting h11<1,>=0.9.0\n",
      "  Using cached h11-0.14.0-py3-none-any.whl (58 kB)\n",
      "Installing collected packages: sortedcontainers, urllib3, sniffio, pysocks, pycparser, idna, h11, certifi, attrs, wsproto, outcome, cffi, trio, trio-websocket, selenium\n",
      "Successfully installed attrs-23.1.0 certifi-2023.7.22 cffi-1.16.0 h11-0.14.0 idna-3.4 outcome-1.3.0 pycparser-2.21 pysocks-1.7.1 selenium-4.14.0 sniffio-1.3.0 sortedcontainers-2.4.0 trio-0.22.2 trio-websocket-0.11.1 urllib3-2.0.7 wsproto-1.2.0\n"
     ]
    },
    {
     "name": "stderr",
     "output_type": "stream",
     "text": [
      "\n",
      "[notice] A new release of pip is available: 23.0.1 -> 23.3\n",
      "[notice] To update, run: python.exe -m pip install --upgrade pip\n"
     ]
    }
   ],
   "source": [
    "!pip install selenium"
   ]
  },
  {
   "cell_type": "code",
   "execution_count": 2,
   "id": "1f0f2d96-c836-4d04-8c38-fb3454d0ebc7",
   "metadata": {},
   "outputs": [
    {
     "name": "stdout",
     "output_type": "stream",
     "text": [
      "Collecting webdriver_manager\n",
      "  Downloading webdriver_manager-4.0.1-py2.py3-none-any.whl (27 kB)\n",
      "Collecting python-dotenv\n",
      "  Using cached python_dotenv-1.0.0-py3-none-any.whl (19 kB)\n",
      "Collecting requests\n",
      "  Using cached requests-2.31.0-py3-none-any.whl (62 kB)\n",
      "Requirement already satisfied: packaging in c:\\users\\navyb\\appdata\\roaming\\python\\python310\\site-packages (from webdriver_manager) (23.1)\n",
      "Requirement already satisfied: certifi>=2017.4.17 in c:\\python\\python310\\lib\\site-packages (from requests->webdriver_manager) (2023.7.22)\n",
      "Requirement already satisfied: idna<4,>=2.5 in c:\\python\\python310\\lib\\site-packages (from requests->webdriver_manager) (3.4)\n",
      "Collecting charset-normalizer<4,>=2\n",
      "  Downloading charset_normalizer-3.3.0-cp310-cp310-win_amd64.whl (98 kB)\n",
      "     ---------------------------------------- 0.0/98.2 kB ? eta -:--:--\n",
      "     ---------------------------------------- 98.2/98.2 kB 5.5 MB/s eta 0:00:00\n",
      "Requirement already satisfied: urllib3<3,>=1.21.1 in c:\\python\\python310\\lib\\site-packages (from requests->webdriver_manager) (2.0.7)\n",
      "Installing collected packages: python-dotenv, charset-normalizer, requests, webdriver_manager\n",
      "Successfully installed charset-normalizer-3.3.0 python-dotenv-1.0.0 requests-2.31.0 webdriver_manager-4.0.1\n"
     ]
    },
    {
     "name": "stderr",
     "output_type": "stream",
     "text": [
      "\n",
      "[notice] A new release of pip is available: 23.0.1 -> 23.3\n",
      "[notice] To update, run: python.exe -m pip install --upgrade pip\n"
     ]
    }
   ],
   "source": [
    "!pip install webdriver_manager"
   ]
  },
  {
   "cell_type": "code",
   "execution_count": 3,
   "id": "c1378266-729e-4b8e-b391-98c88c76edd9",
   "metadata": {},
   "outputs": [],
   "source": [
    "from selenium import webdriver\n",
    "from selenium.webdriver.chrome.service import Service\n",
    "from webdriver_manager.chrome import ChromeDriverManager\n",
    "from selenium.webdriver.common.by import By"
   ]
  },
  {
   "cell_type": "code",
   "execution_count": 6,
   "id": "9a72f291-cd9f-42b4-8e2f-b2f6772ba96b",
   "metadata": {},
   "outputs": [],
   "source": [
    "def get_chrome_driver():\n",
    "    # 각종 크롬 옵션을 세팅\n",
    "    chrome_options = webdriver.ChromeOptions()\n",
    "\n",
    "    # 드라이버 생성\n",
    "    driver= webdriver.Chrome(\n",
    "        service = Service(ChromeDriverManager().install()),\n",
    "        options = chrome_options\n",
    "    )\n",
    "\n",
    "    return driver\n",
    "\n",
    "driver = get_chrome_driver()"
   ]
  },
  {
   "cell_type": "markdown",
   "id": "1b2f4e31-3b4c-4662-9df8-3fa6b9a80556",
   "metadata": {},
   "source": [
    "### 테스트 크롬 페이지는 최대한 건드리지 말 것!"
   ]
  },
  {
   "cell_type": "code",
   "execution_count": 7,
   "id": "fbe3c7ac-8a1b-4b9c-867b-ec1282cda1df",
   "metadata": {},
   "outputs": [],
   "source": [
    "# 1. 원하는 url로 요청하기\n",
    "driver.get(\"https://www.naver.com\")"
   ]
  },
  {
   "cell_type": "code",
   "execution_count": 9,
   "id": "5fcd5f2c-b5b1-46a3-bb15-8ce3553997dd",
   "metadata": {},
   "outputs": [
    {
     "data": {
      "text/plain": [
       "<selenium.webdriver.remote.webelement.WebElement (session=\"0f99edb7341c660fbb374d1b3946d146\", element=\"B1D7C185FD8D218ED04B3EAD934E9250_element_209\")>"
      ]
     },
     "execution_count": 9,
     "metadata": {},
     "output_type": "execute_result"
    }
   ],
   "source": [
    "query_elem = driver.find_element(\n",
    "    By.CSS_SELECTOR,\n",
    "    \"#query\"\n",
    ")\n",
    "\n",
    "query_elem"
   ]
  },
  {
   "cell_type": "code",
   "execution_count": 10,
   "id": "af8b6c8d-5295-4856-815b-ac6e1ef6e243",
   "metadata": {},
   "outputs": [],
   "source": [
    "query_elem.send_keys(\"김채원\")"
   ]
  },
  {
   "cell_type": "code",
   "execution_count": 11,
   "id": "8e9eb6f9-6e0a-4c79-8f87-feb11d7b3acb",
   "metadata": {},
   "outputs": [],
   "source": [
    "query_elem.send_keys(\"바보야\")"
   ]
  },
  {
   "cell_type": "code",
   "execution_count": 12,
   "id": "3eda4d6e-a00b-4c9b-8a77-1bb1bb2e3de1",
   "metadata": {},
   "outputs": [],
   "source": [
    "query_elem.clear()"
   ]
  },
  {
   "cell_type": "code",
   "execution_count": 13,
   "id": "c39310fd-2caa-44fe-9493-f7da01044244",
   "metadata": {},
   "outputs": [],
   "source": [
    "query_elem.send_keys(\"바보야\")"
   ]
  },
  {
   "cell_type": "code",
   "execution_count": 14,
   "id": "c8d638be-2010-40e7-8722-642970ca9a92",
   "metadata": {},
   "outputs": [],
   "source": [
    "# 윈도우 크기 조절\n",
    "driver.set_window_size(200, 800)"
   ]
  },
  {
   "cell_type": "code",
   "execution_count": 15,
   "id": "fa2659e1-2849-453d-8d34-e2e90e4dc7b0",
   "metadata": {},
   "outputs": [],
   "source": [
    "# 스크롤 위치 조절 - javascript 사용\n",
    "# 무한 스크롤링 같은 것을 할 때 사용\n",
    "driver.execute_script(\"window.scrollTo(100, 500)\")"
   ]
  },
  {
   "cell_type": "code",
   "execution_count": 16,
   "id": "f95f3370-a3c1-4dff-a9bb-69452a3c9e67",
   "metadata": {},
   "outputs": [],
   "source": [
    "# 다 사용했으면 종료. 종료 안하면 브라우저가 메모리상에 계속 남아 있게 된다.\n",
    "driver.quit()"
   ]
  },
  {
   "cell_type": "markdown",
   "id": "e04e50f5-25a0-49d5-89bf-8a762d3aa8d5",
   "metadata": {},
   "source": [
    "# 셀레니움으로 뉴스 기사 크롤링하기"
   ]
  },
  {
   "cell_type": "code",
   "execution_count": 17,
   "id": "420293cf-9faa-4b93-8fac-11817e80b4bc",
   "metadata": {},
   "outputs": [],
   "source": [
    "driver = get_chrome_driver()"
   ]
  },
  {
   "cell_type": "code",
   "execution_count": 22,
   "id": "5ab76e08-2871-400a-8b5a-87116d5005d3",
   "metadata": {},
   "outputs": [],
   "source": [
    "driver.get(\"https://news.naver.com/main/main.naver?mode=LSD&mid=shm&sid1=104\")"
   ]
  },
  {
   "cell_type": "code",
   "execution_count": 23,
   "id": "14f5af2d-98bd-429d-8e6b-91f7de5a4f42",
   "metadata": {},
   "outputs": [
    {
     "data": {
      "text/plain": [
       "20"
      ]
     },
     "execution_count": 23,
     "metadata": {},
     "output_type": "execute_result"
    }
   ],
   "source": [
    "articles = driver.find_elements(\n",
    "    By.CSS_SELECTOR,\n",
    "    \"#section_body li\"\n",
    ")\n",
    "\n",
    "len(articles)"
   ]
  },
  {
   "cell_type": "code",
   "execution_count": 24,
   "id": "b4ca97a3-946b-4fe8-b968-8084b67ec384",
   "metadata": {},
   "outputs": [
    {
     "data": {
      "text/plain": [
       "'‘불닭’보다 600배 맵다…기네스북 오른 ‘페퍼X’ 뭐길래\\n미국의 한 품종발명가가 만든 신종 고추 ‘페퍼X’가 세계에서 가장 매운 고추로 등 …\\n조선일보16분전'"
      ]
     },
     "execution_count": 24,
     "metadata": {},
     "output_type": "execute_result"
    }
   ],
   "source": [
    "articles[0].text"
   ]
  },
  {
   "cell_type": "code",
   "execution_count": 25,
   "id": "41b1d8ca-62b0-49b6-a7f6-ce9ec4438af8",
   "metadata": {},
   "outputs": [
    {
     "data": {
      "text/plain": [
       "'‘불닭’보다 600배 맵다…기네스북 오른 ‘페퍼X’ 뭐길래'"
      ]
     },
     "execution_count": 25,
     "metadata": {},
     "output_type": "execute_result"
    }
   ],
   "source": [
    "articles[0].find_element(\n",
    "    By.CSS_SELECTOR,\n",
    "    \"dt:not(.photo) > a\"\n",
    ").text"
   ]
  },
  {
   "cell_type": "code",
   "execution_count": 26,
   "id": "0621ccb0-593b-495c-98bd-0b81fdcb1d75",
   "metadata": {},
   "outputs": [
    {
     "data": {
      "text/plain": [
       "['‘불닭’보다 600배 맵다…기네스북 오른 ‘페퍼X’ 뭐길래',\n",
       " '이스라엘 \"곧 가자지구 내부에서 볼 것\"…지상군 투입 임박했나',\n",
       " '레바논-이스라엘 교전 중 취재기자 7명 피습, 2명 사상',\n",
       " '이스라엘 대규모 지상침공 계획 바꾸나…\"바이든 개입 영향\"',\n",
       " '美반도체 규제 확대에…중국, 브로드컴 빅딜 불허로 맞대응 검토',\n",
       " '슬로베니아 ‘솅겐 조약’ 중단…국경 잠그는 유럽',\n",
       " '이·팔 분쟁, 미-이란 대리전 양상…시리아·이라크·예멘서 무장세력 활동',\n",
       " \"中, 가자지구 유엔 결의안 美 거부로 부결에 '실망'\",\n",
       " '이스라엘 키부츠 생존자들 \"네타냐후 총리가 책임져야\" 분통',\n",
       " '중국, 러시아 손잡고 패권 노린다…\"7년 후 핵탄두 1000기\"',\n",
       " '노조 파업 장기화에…조지 클루니 등 \"배우들 수십억씩 내놓자\"',\n",
       " '중동배치 미해군, 이-팔전쟁 실전 가담..미사일 ·무인기 격추',\n",
       " '주저앉은 성장 전망에…추락하는 테슬라',\n",
       " \"정국 못 본다... '이스라엘·하마스 전쟁'에 MTV 시상식 전격 취소\",\n",
       " '美 군사지원 우선순위 조정되나...“우크라 주려던 포탄 일부 이스라엘로”',\n",
       " \"13년만에 미국 주택 판매 최저…경기 좋은데 부동산만 '울상'\",\n",
       " '미국, 팔레스타인에서 지정학적 패배에 직면하다',\n",
       " '미국, ‘대규모 지상침공 말라’ 이스라엘과 대안 논의 중',\n",
       " '“라파 국경 오늘 열릴 예정”…미 정보 “사망자 최대 3백 명”',\n",
       " '갑작스레 유순해진 ‘시진핑 외교’ 원인은 절박한 국내 경제 탓?']"
      ]
     },
     "execution_count": 26,
     "metadata": {},
     "output_type": "execute_result"
    }
   ],
   "source": [
    "# 모든 뉴스기사 헤드라인 가져오기\n",
    "\n",
    "article_list = []\n",
    "\n",
    "for article in articles:\n",
    "    title = article.find_element(\n",
    "        By.CSS_SELECTOR,\n",
    "        \"dt:not(.photo) > a\"\n",
    "    ).text\n",
    "\n",
    "    article_list.append(title)\n",
    "\n",
    "article_list"
   ]
  },
  {
   "cell_type": "code",
   "execution_count": 27,
   "id": "b67704bb-1845-4f72-bd6c-591389a494f0",
   "metadata": {},
   "outputs": [],
   "source": [
    "driver.quit()"
   ]
  },
  {
   "cell_type": "code",
   "execution_count": 28,
   "id": "81faf57f-756e-42e0-9e0e-28e49f9da34d",
   "metadata": {},
   "outputs": [],
   "source": [
    "article_list = []\n",
    "\n",
    "def get_article(page):\n",
    "    driver = get_chrome_driver()\n",
    "    \n",
    "    url = \"https://news.naver.com/main/main.naver?mode=LSD&mid=shm&sid1=104&page={}\".format(page)\n",
    "    driver.get(url)\n",
    "    articles = driver.find_elements( By.CSS_SELECTOR, \"#section_body li\")\n",
    "\n",
    "    for article in articles:\n",
    "        title = article.find_element( By.CSS_SELECTOR, \"dt:not(.photo) > a\").text\n",
    "        article_list.append(title)\n",
    "    \n",
    "    print(\"Crawling : {}\".format(page))\n",
    "    \n",
    "    driver.quit()"
   ]
  },
  {
   "cell_type": "code",
   "execution_count": 29,
   "id": "a62539fb-fb08-4795-8276-6fd2ee4c0fb5",
   "metadata": {},
   "outputs": [
    {
     "name": "stdout",
     "output_type": "stream",
     "text": [
      "Crawling : 1\n",
      "Crawling : 2\n",
      "Crawling : 3\n",
      "Crawling : 4\n",
      "Crawling : 5\n",
      "CPU times: total: 1.22 s\n",
      "Wall time: 50.6 s\n"
     ]
    }
   ],
   "source": [
    "%%time\n",
    "for page in range(1, 6):\n",
    "    get_article(page)"
   ]
  },
  {
   "cell_type": "code",
   "execution_count": null,
   "id": "f152d8fb-8f04-4a25-b067-2610aaa838a9",
   "metadata": {},
   "outputs": [],
   "source": []
  }
 ],
 "metadata": {
  "kernelspec": {
   "display_name": "Python 3 (ipykernel)",
   "language": "python",
   "name": "python3"
  },
  "language_info": {
   "codemirror_mode": {
    "name": "ipython",
    "version": 3
   },
   "file_extension": ".py",
   "mimetype": "text/x-python",
   "name": "python",
   "nbconvert_exporter": "python",
   "pygments_lexer": "ipython3",
   "version": "3.11.4"
  }
 },
 "nbformat": 4,
 "nbformat_minor": 5
}
