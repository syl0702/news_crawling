{
 "cells": [
  {
   "cell_type": "markdown",
   "id": "7ef29ff3-d9a9-491e-99f7-b47796addf87",
   "metadata": {},
   "source": [
    "# 신문기사 크롤링"
   ]
  },
  {
   "cell_type": "code",
   "execution_count": 1,
   "id": "5f248a11-09ab-4800-934c-973429c49d0a",
   "metadata": {},
   "outputs": [
    {
     "data": {
      "text/plain": [
       "['https://it.chosun.com/news/articleView.html?idxno=2023092100442',\n",
       " 'https://it.chosun.com/news/articleView.html?idxno=2023092101155',\n",
       " 'https://it.chosun.com/news/articleView.html?idxno=2023092101463']"
      ]
     },
     "execution_count": 1,
     "metadata": {},
     "output_type": "execute_result"
    }
   ],
   "source": [
    "url_list=list()\n",
    "url_list.insert(0,'https://it.chosun.com/news/articleView.html?idxno=2023092100442')\n",
    "url_list.insert(1,'https://it.chosun.com/news/articleView.html?idxno=2023092101155')\n",
    "url_list.insert(2,'https://it.chosun.com/news/articleView.html?idxno=2023092101463')\n",
    "url_list"
   ]
  },
  {
   "cell_type": "code",
   "execution_count": 14,
   "id": "43ef2e92-4e8e-4a9c-981c-1a188eb311cd",
   "metadata": {},
   "outputs": [
    {
     "ename": "AttributeError",
     "evalue": "'NoneType' object has no attribute 'text'",
     "output_type": "error",
     "traceback": [
      "\u001b[1;31m---------------------------------------------------------------------------\u001b[0m",
      "\u001b[1;31mAttributeError\u001b[0m                            Traceback (most recent call last)",
      "Cell \u001b[1;32mIn[14], line 17\u001b[0m\n\u001b[0;32m     14\u001b[0m     contents\u001b[38;5;241m.\u001b[39mappend(text)\n\u001b[0;32m     16\u001b[0m     \u001b[38;5;66;03m# title = soup.select_one('article-view-header').find('h1').text.strip()\u001b[39;00m\n\u001b[1;32m---> 17\u001b[0m     title \u001b[38;5;241m=\u001b[39m \u001b[43msoup\u001b[49m\u001b[38;5;241;43m.\u001b[39;49m\u001b[43mselect_one\u001b[49m\u001b[43m(\u001b[49m\u001b[38;5;124;43m'\u001b[39;49m\u001b[38;5;124;43mheading\u001b[39;49m\u001b[38;5;124;43m'\u001b[39;49m\u001b[43m)\u001b[49m\u001b[38;5;241;43m.\u001b[39;49m\u001b[43mtext\u001b[49m\u001b[38;5;241m.\u001b[39mstrip()\n\u001b[0;32m     18\u001b[0m     titles\u001b[38;5;241m.\u001b[39mappend(title)\n\u001b[0;32m     20\u001b[0m data \u001b[38;5;241m=\u001b[39m {\u001b[38;5;124m'\u001b[39m\u001b[38;5;124m기사 제목\u001b[39m\u001b[38;5;124m'\u001b[39m : titles, \u001b[38;5;124m'\u001b[39m\u001b[38;5;124m기사 내용\u001b[39m\u001b[38;5;124m'\u001b[39m : contents}\n",
      "\u001b[1;31mAttributeError\u001b[0m: 'NoneType' object has no attribute 'text'"
     ]
    }
   ],
   "source": [
    "# 웹 크롤링 결과 데이터프레임 정리 : 기사제목 추출하는 것처럼 select문과 find문 결합해서 사용하면 유용\n",
    "from urllib.request import urlopen\n",
    "from bs4 import BeautifulSoup as bs\n",
    "import pandas as pd\n",
    "\n",
    "titles, contents = [], []\n",
    "for i in range(len(url_list)):\n",
    "    url=url_list[i]\n",
    "    html = urlopen(url)\n",
    "    soup = bs(html, \"html.parser\")\n",
    "    text = ''\n",
    "    for para in soup.select('div.news_cnt_detail_wrap'):\n",
    "        text += para.text.strip()\n",
    "    contents.append(text)\n",
    "\n",
    "    # title = soup.select_one('article-view-header').find('h1').text.strip()\n",
    "    title = soup.select_one('heading').text.strip()\n",
    "    titles.append(title)\n",
    "\n",
    "data = {'기사 제목' : titles, '기사 내용' : contents}\n",
    "df = pd.DataFrame(data)\n",
    "df"
   ]
  },
  {
   "cell_type": "code",
   "execution_count": null,
   "id": "499a46c3-4538-4aa8-b3e7-b09194e463d0",
   "metadata": {},
   "outputs": [],
   "source": []
  }
 ],
 "metadata": {
  "kernelspec": {
   "display_name": "Python 3 (ipykernel)",
   "language": "python",
   "name": "python3"
  },
  "language_info": {
   "codemirror_mode": {
    "name": "ipython",
    "version": 3
   },
   "file_extension": ".py",
   "mimetype": "text/x-python",
   "name": "python",
   "nbconvert_exporter": "python",
   "pygments_lexer": "ipython3",
   "version": "3.11.4"
  }
 },
 "nbformat": 4,
 "nbformat_minor": 5
}
